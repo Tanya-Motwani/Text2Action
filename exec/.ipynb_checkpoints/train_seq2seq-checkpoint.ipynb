{
 "cells": [
  {
   "cell_type": "markdown",
   "metadata": {},
   "source": [
    "## Import modules needed"
   ]
  },
  {
   "cell_type": "code",
   "execution_count": 1,
   "metadata": {},
   "outputs": [],
   "source": [
    "import os\n",
    "import sys\n",
    "module_path = os.path.abspath(os.path.join('..'))\n",
    "if module_path not in sys.path:\n",
    "    sys.path.append(module_path)\n",
    "import model.trainer_seq2seq as trainer\n",
    "import model.struct_seq2seq as structure\n",
    "import numpy as np\n",
    "import scipy.io as scio\n",
    "from util.my_functions import load_metadata\n",
    "os.environ['CUDA_VISIBLE_DEVICES']='0'"
   ]
  },
  {
   "cell_type": "markdown",
   "metadata": {},
   "source": [
    "## Load preprocessed dataset"
   ]
  },
  {
   "cell_type": "code",
   "execution_count": 2,
   "metadata": {},
   "outputs": [],
   "source": [
    "metadata_path = '../data/metadata.npz'\n",
    "\n",
    "train_action, train_script, train_length, sentence_steps = load_metadata(metadata_path)\n",
    "\n",
    "init_pose = scio.loadmat('../data/mean_pose.mat')['mean_vector']"
   ]
  },
  {
   "cell_type": "markdown",
   "metadata": {},
   "source": [
    "## Set model parameters"
   ]
  },
  {
   "cell_type": "code",
   "execution_count": 3,
   "metadata": {},
   "outputs": [],
   "source": [
    "num_data_train = train_action.shape[0]\n",
    "\n",
    "dim_sentence = 300\n",
    "dim_char_enc = 300\n",
    "dim_gen = 300\n",
    "batch_size = 32\n",
    "dim_random = 10\n",
    "\n",
    "action_steps = 32\n",
    "\n",
    "model_dir = '../seq2seq_model'\n",
    "\n",
    "restore = 0\n",
    "restore_path = ''\n",
    "restore_step = 0"
   ]
  },
  {
   "cell_type": "markdown",
   "metadata": {},
   "source": [
    "## Define model and training module"
   ]
  },
  {
   "cell_type": "code",
   "execution_count": 4,
   "metadata": {},
   "outputs": [],
   "source": [
    "model = structure.seq2seq_model(sentence_steps=sentence_steps,\n",
    "                                action_steps=action_steps,\n",
    "                                dim_sentence=dim_sentence,\n",
    "                                dim_char_enc=dim_char_enc,\n",
    "                                dim_gen=dim_gen)\n",
    "\n",
    "train_module = trainer.seq2seq_trainer(model=model,\n",
    "                                  train_script=train_script,\n",
    "                                  train_script_len=train_length,\n",
    "                                  train_action=train_action,\n",
    "                                  init_pose=init_pose,\n",
    "                                  num_data=num_data_train,\n",
    "                                  batch_size=batch_size,\n",
    "                                  model_dir=model_dir,\n",
    "                                  sentence_steps=sentence_steps,\n",
    "                                  action_steps=action_steps,\n",
    "                                  restore=restore,\n",
    "                                  restore_path=restore_path,\n",
    "                                  restore_step=restore_step,\n",
    "                                  dim_char_enc=dim_char_enc,\n",
    "                                  dim_sentence=dim_sentence,\n",
    "                                  dim_gen=dim_gen,\n",
    "                                  dim_random=dim_random)"
   ]
  },
  {
   "cell_type": "code",
   "execution_count": null,
   "metadata": {},
   "outputs": [],
   "source": [
    "train_module.train()"
   ]
  },
  {
   "cell_type": "code",
   "execution_count": null,
   "metadata": {},
   "outputs": [],
   "source": []
  },
  {
   "cell_type": "code",
   "execution_count": null,
   "metadata": {},
   "outputs": [],
   "source": []
  }
 ],
 "metadata": {
  "kernelspec": {
   "display_name": "Python 3",
   "language": "python",
   "name": "python3"
  },
  "language_info": {
   "codemirror_mode": {
    "name": "ipython",
    "version": 3
   },
   "file_extension": ".py",
   "mimetype": "text/x-python",
   "name": "python",
   "nbconvert_exporter": "python",
   "pygments_lexer": "ipython3",
   "version": "3.5.2"
  },
  "varInspector": {
   "cols": {
    "lenName": 16,
    "lenType": 16,
    "lenVar": 40
   },
   "kernels_config": {
    "python": {
     "delete_cmd_postfix": "",
     "delete_cmd_prefix": "del ",
     "library": "var_list.py",
     "varRefreshCmd": "print(var_dic_list())"
    },
    "r": {
     "delete_cmd_postfix": ") ",
     "delete_cmd_prefix": "rm(",
     "library": "var_list.r",
     "varRefreshCmd": "cat(var_dic_list()) "
    }
   },
   "types_to_exclude": [
    "module",
    "function",
    "builtin_function_or_method",
    "instance",
    "_Feature"
   ],
   "window_display": false
  }
 },
 "nbformat": 4,
 "nbformat_minor": 2
}
