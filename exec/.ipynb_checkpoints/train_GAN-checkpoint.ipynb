{
 "cells": [
  {
   "cell_type": "code",
   "execution_count": 1,
   "metadata": {},
   "outputs": [],
   "source": [
    "import os\n",
    "import sys\n",
    "module_path = os.path.abspath(os.path.join('..'))\n",
    "if module_path not in sys.path:\n",
    "    sys.path.append(module_path)\n",
    "import model.struct_GAN as structure\n",
    "import model.trainer_GAN as trainer\n",
    "import numpy as np\n",
    "import tensorflow as tf\n",
    "import scipy.io as scio\n",
    "from util.my_functions import load_metadata\n"
   ]
  },
  {
   "cell_type": "code",
   "execution_count": 2,
   "metadata": {},
   "outputs": [],
   "source": [
    "metadata_path = '../data/metadata.npz'\n",
    "\n",
    "train_action, train_script, train_length, sentence_steps = load_metadata(metadata_path)"
   ]
  },
  {
   "cell_type": "code",
   "execution_count": null,
   "metadata": {
    "scrolled": true
   },
   "outputs": [
    {
     "name": "stdout",
     "output_type": "stream",
     "text": [
      "INFO:tensorflow:Restoring parameters from ../seq2seq_model/model.ckpt-500\n",
      "0 : batch_gen_loss : 0.7033391, dis_loss :1.3770299\n",
      "0 : batch_gen_loss : 0.6984889, dis_loss :1.3759799\n",
      "0 : batch_gen_loss : 0.70162773, dis_loss :1.3695676\n",
      "0 : batch_gen_loss : 0.6929621, dis_loss :1.3725584\n",
      "0 : batch_gen_loss : 0.68943787, dis_loss :1.3722007\n",
      "0 : batch_gen_loss : 0.6812312, dis_loss :1.3798746\n"
     ]
    }
   ],
   "source": [
    "init_pose = scio.loadmat('../data/mean_pose.mat')['mean_vector']\n",
    "\n",
    "num_data_train = train_action.shape[0]\n",
    "\n",
    "dim_sentence = 300\n",
    "dim_char_enc = 300\n",
    "dim_gen = 300\n",
    "dim_dis = 300\n",
    "batch_size = 32\n",
    "\n",
    "action_steps = 32\n",
    "dim_random = 10\n",
    "\n",
    "seq2seq_model_dir = '../seq2seq_model/model.ckpt-500'\n",
    "dis_model_dir = ''\n",
    "gan_model_dir = '../gan_model'\n",
    "\n",
    "model = structure.GAN_model(sentence_steps=sentence_steps,\n",
    "                            action_steps=action_steps,\n",
    "                            dim_sentence=dim_sentence,\n",
    "                            dim_char_enc=dim_char_enc,\n",
    "                            dim_gen=dim_gen,\n",
    "                            dim_dis=dim_dis)\n",
    "train_module = trainer.GAN_trainer(gan_model=model,\n",
    "                              train_script=train_script,\n",
    "                              train_script_len=train_length,\n",
    "                              train_action=train_action,\n",
    "                              init_pose=init_pose,\n",
    "                              num_data=num_data_train,\n",
    "                              batch_size=batch_size,\n",
    "                              gan_model_dir=gan_model_dir,\n",
    "                              seq2seq_model_dir=seq2seq_model_dir,\n",
    "                              dis_model_dir=dis_model_dir,\n",
    "                              sentence_steps=sentence_steps,\n",
    "                              action_steps=action_steps,\n",
    "                              dim_sentence=dim_sentence,\n",
    "                              dim_char_enc=dim_char_enc,\n",
    "                              dim_gen=dim_gen,\n",
    "                              dim_random=dim_random,\n",
    "                              restore=0,\n",
    "                              restore_path='',\n",
    "                              restore_step=0\n",
    "                              )\n",
    "train_module.train()"
   ]
  },
  {
   "cell_type": "code",
   "execution_count": null,
   "metadata": {},
   "outputs": [],
   "source": []
  }
 ],
 "metadata": {
  "kernelspec": {
   "display_name": "Python 3",
   "language": "python",
   "name": "python3"
  },
  "language_info": {
   "codemirror_mode": {
    "name": "ipython",
    "version": 3
   },
   "file_extension": ".py",
   "mimetype": "text/x-python",
   "name": "python",
   "nbconvert_exporter": "python",
   "pygments_lexer": "ipython3",
   "version": "3.5.2"
  },
  "varInspector": {
   "cols": {
    "lenName": 16,
    "lenType": 16,
    "lenVar": 40
   },
   "kernels_config": {
    "python": {
     "delete_cmd_postfix": "",
     "delete_cmd_prefix": "del ",
     "library": "var_list.py",
     "varRefreshCmd": "print(var_dic_list())"
    },
    "r": {
     "delete_cmd_postfix": ") ",
     "delete_cmd_prefix": "rm(",
     "library": "var_list.r",
     "varRefreshCmd": "cat(var_dic_list()) "
    }
   },
   "types_to_exclude": [
    "module",
    "function",
    "builtin_function_or_method",
    "instance",
    "_Feature"
   ],
   "window_display": false
  }
 },
 "nbformat": 4,
 "nbformat_minor": 2
}
