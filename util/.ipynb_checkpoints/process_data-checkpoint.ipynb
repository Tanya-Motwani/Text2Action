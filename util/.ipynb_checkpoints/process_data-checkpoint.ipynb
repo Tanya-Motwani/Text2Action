{
 "cells": [
  {
   "cell_type": "code",
   "execution_count": null,
   "metadata": {
    "scrolled": true
   },
   "outputs": [],
   "source": [
    "import numpy as np\n",
    "import os\n",
    "import scipy.io as scio\n",
    "from my_functions import load_w2v"
   ]
  },
  {
   "cell_type": "code",
   "execution_count": null,
   "metadata": {},
   "outputs": [],
   "source": [
    "w2v_path = '../data/GoogleNews-vectors-negative300.bin'\n",
    "w2v_model = load_w2v(w2v_path)\n",
    "\n",
    "embed_size = w2v_model['woman'].shape[0]\n",
    "print (embed_size)"
   ]
  },
  {
   "cell_type": "code",
   "execution_count": null,
   "metadata": {},
   "outputs": [],
   "source": [
    "# Load data\n",
    "f = open('../data/total_script.txt', 'r')  # put your data here\n",
    "lines = f.readlines()\n",
    "\n",
    "max_length = 0\n",
    "for line in lines:\n",
    "    line = line.lower()\n",
    "    words = line.split()\n",
    "\n",
    "    word_cnt = 0\n",
    "    for word in words:\n",
    "        word_cnt += 1\n",
    "    if max_length < word_cnt:\n",
    "        max_length = word_cnt\n",
    "f.close()\n",
    "print('The maximum sentence length is %d' % max_length)"
   ]
  },
  {
   "cell_type": "code",
   "execution_count": null,
   "metadata": {
    "scrolled": true
   },
   "outputs": [],
   "source": [
    "pose_path = '../data/pose/'\n",
    "script_path = '../data/script/'\n",
    "pose_files = [f for f in os.listdir(pose_path) if os.path.isfile(os.path.join(pose_path, f))]\n",
    "script_files = [f for f in os.listdir(script_path) if os.path.isfile(os.path.join(script_path, f))]\n",
    "\n",
    "total_pose_list = []\n",
    "total_script_list = []\n",
    "vocab_keys = w2v_model.vocab.keys()\n",
    "for idx, p_file in enumerate(pose_files):\n",
    "    print 'processing %dth data...' %idx\n",
    "    curr_pred = scio.loadmat(pose_path+p_file)['pred_vector']\n",
    "    curr_script_path = script_path + 'script_' + p_file[5:9] + '.txt'\n",
    "    s_f = open(curr_script_path, 'r')  \n",
    "\n",
    "    lines = s_f.readlines()\n",
    "    for line in lines:\n",
    "        line = line.lower()\n",
    "        words = line.split()\n",
    "        tmp_word_array = np.zeros((embed_size, len(words)))\n",
    "        for word in words:\n",
    "            if word not in vocab_keys:\n",
    "                curr_emb_vec = np.zeros((embed_size, ))\n",
    "            else:\n",
    "                curr_emb_vec = w2v_model[word]\n",
    "            tmp_word_array[:, words.index(word)] = curr_emb_vec\n",
    "            \n",
    "        total_script_list.append(tmp_word_array)\n",
    "        total_pose_list.append(curr_pred)\n",
    "    s_f.close()"
   ]
  },
  {
   "cell_type": "code",
   "execution_count": null,
   "metadata": {},
   "outputs": [],
   "source": [
    "pose_array = np.asarray(total_pose_list)\n",
    "print pose_array.shape"
   ]
  },
  {
   "cell_type": "code",
   "execution_count": null,
   "metadata": {},
   "outputs": [],
   "source": [
    "num_data = pose_array.shape[0]\n",
    "\n",
    "script_array = np.zeros((num_data, embed_size, max_length))\n",
    "script_length = np.zeros((num_data))\n",
    "\n",
    "for i in range(num_data):\n",
    "    tmp_script = total_script_list[i]\n",
    "    script_length[i] = total_script_list[i].shape[1]\n",
    "    script_array[i, :, :total_script_list[i].shape[1]] = total_script_list[i]\n",
    "\n",
    "print('DATA READY')"
   ]
  },
  {
   "cell_type": "code",
   "execution_count": null,
   "metadata": {},
   "outputs": [],
   "source": [
    "np.savez('../data/metadata.npz', pose_array, script_array, script_length, max_length)"
   ]
  }
 ],
 "metadata": {
  "kernelspec": {
   "display_name": "Python 3",
   "language": "python",
   "name": "python3"
  },
  "language_info": {
   "codemirror_mode": {
    "name": "ipython",
    "version": 3
   },
   "file_extension": ".py",
   "mimetype": "text/x-python",
   "name": "python",
   "nbconvert_exporter": "python",
   "pygments_lexer": "ipython3",
   "version": "3.5.2"
  },
  "varInspector": {
   "cols": {
    "lenName": 16,
    "lenType": 16,
    "lenVar": 40
   },
   "kernels_config": {
    "python": {
     "delete_cmd_postfix": "",
     "delete_cmd_prefix": "del ",
     "library": "var_list.py",
     "varRefreshCmd": "print(var_dic_list())"
    },
    "r": {
     "delete_cmd_postfix": ") ",
     "delete_cmd_prefix": "rm(",
     "library": "var_list.r",
     "varRefreshCmd": "cat(var_dic_list()) "
    }
   },
   "types_to_exclude": [
    "module",
    "function",
    "builtin_function_or_method",
    "instance",
    "_Feature"
   ],
   "window_display": false
  }
 },
 "nbformat": 4,
 "nbformat_minor": 2
}
